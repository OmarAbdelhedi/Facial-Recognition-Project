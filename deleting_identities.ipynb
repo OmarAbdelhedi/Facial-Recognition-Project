{
 "cells": [
  {
   "cell_type": "code",
   "execution_count": null,
   "metadata": {},
   "outputs": [
    {
     "name": "stdout",
     "output_type": "stream",
     "text": [
      "Filtered identities and saved the updated file.\n"
     ]
    }
   ],
   "source": [
    "import pickle\n",
    "import numpy as np\n",
    "\n",
    "# Load the embeddings and identities from the pickle file\n",
    "embeddings_file = \"face_embeddings.pkl\"\n",
    "\n",
    "with open(embeddings_file, \"rb\") as f:\n",
    "    embeddings, identities = pickle.load(f)\n",
    "\n",
    "# Convert identities to a NumPy array (if not already)\n",
    "identities = np.array(identities)\n",
    "\n",
    "# List of identities to remove\n",
    "identities_to_remove = {\"\"}  # Modify this list as needed\n",
    "# Create a mask to keep only the desired identities\n",
    "mask = ~np.isin(identities, list(identities_to_remove))  # True for identities to keep\n",
    "\n",
    "# Filter embeddings and identities using list comprehension\n",
    "filtered_embeddings = [emb for emb, keep in zip(embeddings, mask) if keep]\n",
    "filtered_identities = identities[mask]  # NumPy indexing works for identities\n",
    "\n",
    "# Save the filtered embeddings and identities back to the pickle file\n",
    "with open(embeddings_file, \"wb\") as f:\n",
    "    pickle.dump((filtered_embeddings, filtered_identities.tolist()), f)\n",
    "\n",
    "print(\"Filtered identities and saved the updated file.\")"
   ]
  },
  {
   "cell_type": "code",
   "execution_count": null,
   "metadata": {},
   "outputs": [],
   "source": []
  }
 ],
 "metadata": {
  "kernelspec": {
   "display_name": ".venv",
   "language": "python",
   "name": "python3"
  },
  "language_info": {
   "codemirror_mode": {
    "name": "ipython",
    "version": 3
   },
   "file_extension": ".py",
   "mimetype": "text/x-python",
   "name": "python",
   "nbconvert_exporter": "python",
   "pygments_lexer": "ipython3",
   "version": "3.10.11"
  }
 },
 "nbformat": 4,
 "nbformat_minor": 2
}
